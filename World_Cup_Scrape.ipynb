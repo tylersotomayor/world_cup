{
 "cells": [
  {
   "cell_type": "code",
   "execution_count": 1,
   "metadata": {},
   "outputs": [],
   "source": [
    "# Web Scraping"
   ]
  },
  {
   "cell_type": "code",
   "execution_count": 56,
   "metadata": {},
   "outputs": [],
   "source": [
    "# Dependencies\n",
    "from bs4 import BeautifulSoup\n",
    "from splinter import Browser\n",
    "import pandas as pd\n",
    "import requests"
   ]
  },
  {
   "cell_type": "code",
   "execution_count": 57,
   "metadata": {},
   "outputs": [],
   "source": [
    "executable_path = {'executable_path': 'C:/Users/Aboody/Chromedriver/chromedriver'}\n",
    "browser = Browser('chrome', **executable_path, headless=False)"
   ]
  },
  {
   "cell_type": "code",
   "execution_count": 58,
   "metadata": {},
   "outputs": [],
   "source": [
    "url = 'https://www.fifa.com/worldcup/statistics/teams/disciplinary'\n",
    "browser.visit(url)"
   ]
  },
  {
   "cell_type": "code",
   "execution_count": 59,
   "metadata": {},
   "outputs": [],
   "source": [
    "# Create BeautifulSoup object; parse with 'html.parser'\n",
    "html = browser.html\n",
    "soup = BeautifulSoup(html, 'html.parser')"
   ]
  },
  {
   "cell_type": "code",
   "execution_count": 60,
   "metadata": {},
   "outputs": [
    {
     "name": "stdout",
     "output_type": "stream",
     "text": [
      "['Colombia', 'Switzerland', 'Russia', 'Germany', 'Croatia', 'France', 'Belgium', 'Argentina', 'Panama', 'Korea Republic', 'Mexico', 'Serbia', 'England', 'Sweden', 'Morocco', 'Portugal', 'Brazil', 'IR Iran', 'Australia', 'Denmark', 'Senegal', 'Costa Rica', 'Egypt', 'Japan', 'Peru', 'Tunisia', 'Nigeria', 'Uruguay', 'Iceland', 'Poland', 'Spain', 'Saudi Arabia']\n"
     ]
    }
   ],
   "source": [
    "# Find the team names\n",
    "all_results = soup.find_all('tr')\n",
    "# all_resultss = result.find('tr')\n",
    "\n",
    "teamsList = []\n",
    "\n",
    "for result in all_results[1:]:\n",
    "    digTeam = result.find('span', class_='fi-t__nText ').text\n",
    "    teamsList.append(digTeam)\n",
    "\n",
    "print(teamsList)"
   ]
  },
  {
   "cell_type": "code",
   "execution_count": 61,
   "metadata": {},
   "outputs": [
    {
     "name": "stdout",
     "output_type": "stream",
     "text": [
      "['4', '4', '5', '3', '7', '7', '7', '4', '3', '3', '4', '3', '7', '5', '3', '4', '5', '3', '3', '4', '3', '3', '3', '4', '3', '3', '3', '5', '3', '3', '4', '3']\n",
      "['63', '53', '95', '29', '114', '93', '99', '55', '49', '63', '54', '45', '72', '65', '62', '55', '50', '44', '37', '54', '44', '43', '38', '37', '37', '46', '45', '63', '35', '31', '34', '30']\n",
      "['52', '53', '56', '39', '105', '103', '75', '75', '48', '33', '47', '37', '100', '64', '36', '59', '73', '45', '30', '28', '30', '35', '21', '48', '38', '35', '44', '69', '27', '33', '59', '45']\n",
      "['2', '1', '1', '0', '2', '1', '0', '2', '2', '2', '1', '0', '1', '0', '0', '1', '0', '1', '1', '3', '0', '0', '2', '0', '0', '1', '2', '0', '1', '0', '2', '0']\n"
     ]
    }
   ],
   "source": [
    "table = soup.find('table', class_='fi-table fi-standings fi-statistics fi-statistics-teams dataTable no-footer')\n",
    "rows = table.find_all('tr')\n",
    "data = []\n",
    "matchesPlayed = []\n",
    "foulsCommited = []\n",
    "foulsSuffered = []\n",
    "penaltiesCaused = []\n",
    "for row in rows:\n",
    "    data.append([c.text for c in row.find_all('td')])\n",
    "    \n",
    "for x in data[1:]:\n",
    "    matchesPlayed.append(x[2])\n",
    "    foulsCommited.append(x[6])\n",
    "    foulsSuffered.append(x[7])\n",
    "    penaltiesCaused.append(x[8])\n",
    "print (matchesPlayed)\n",
    "print (foulsCommited)\n",
    "print (foulsSuffered)\n",
    "print (penaltiesCaused)"
   ]
  },
  {
   "cell_type": "code",
   "execution_count": 62,
   "metadata": {},
   "outputs": [
    {
     "name": "stdout",
     "output_type": "stream",
     "text": [
      "[15.75, 13.25, 19.0, 9.67, 16.29, 13.29, 14.14, 13.75, 16.33, 21.0, 13.5, 15.0, 10.29, 13.0, 20.67, 13.75, 10.0, 14.67, 12.33, 13.5, 14.67, 14.33, 12.67, 9.25, 12.33, 15.33, 15.0, 12.6, 11.67, 10.33, 8.5, 10.0]\n"
     ]
    }
   ],
   "source": [
    "avgFoulsC = [round(float(x)/float(y), 2) for x,y in zip(foulsCommited, matchesPlayed)]\n",
    "print(avgFoulsC)"
   ]
  },
  {
   "cell_type": "code",
   "execution_count": 63,
   "metadata": {},
   "outputs": [
    {
     "name": "stdout",
     "output_type": "stream",
     "text": [
      "[13.0, 13.25, 11.2, 13.0, 15.0, 14.71, 10.71, 18.75, 16.0, 11.0, 11.75, 12.33, 14.29, 12.8, 12.0, 14.75, 14.6, 15.0, 10.0, 7.0, 10.0, 11.67, 7.0, 12.0, 12.67, 11.67, 14.67, 13.8, 9.0, 11.0, 14.75, 15.0]\n"
     ]
    }
   ],
   "source": [
    "avgFoulsS = [round(float(x)/float(y), 2) for x,y in zip(foulsSuffered, matchesPlayed)]\n",
    "print(avgFoulsS)"
   ]
  },
  {
   "cell_type": "code",
   "execution_count": 64,
   "metadata": {},
   "outputs": [],
   "source": [
    "# 2014 World Cup Data"
   ]
  },
  {
   "cell_type": "code",
   "execution_count": 65,
   "metadata": {},
   "outputs": [],
   "source": [
    "url = 'https://www.fifa.com/worldcup/archive/brazil2014/statistics/teams/disciplinary.html'\n",
    "browser.visit(url)"
   ]
  },
  {
   "cell_type": "code",
   "execution_count": 66,
   "metadata": {},
   "outputs": [],
   "source": [
    "# Create BeautifulSoup object; parse with 'html.parser'\n",
    "html = browser.html\n",
    "soup = BeautifulSoup(html, 'html.parser')"
   ]
  },
  {
   "cell_type": "code",
   "execution_count": 67,
   "metadata": {},
   "outputs": [
    {
     "name": "stdout",
     "output_type": "stream",
     "text": [
      "['Uruguay', 'Belgium', 'Ecuador', 'Cameroon', 'Croatia', 'Italy', 'Portugal', 'Costa Rica', 'Greece', 'Honduras', 'Brazil', 'Netherlands', 'Mexico', 'Argentina', \"Côte d'Ivoire\", 'Chile', 'Ghana', 'Korea Republic', 'Australia', 'Algeria', 'Germany', 'France', 'Colombia', 'Iran', 'Japan', 'England', 'Russia', 'USA', 'Spain', 'Bosnia and Herzegovina', 'Switzerland', 'Nigeria']\n",
      "['4', '5', '3', '3', '3', '3', '3', '5', '4', '3', '7', '7', '4', '7', '3', '4', '3', '3', '3', '4', '7', '5', '5', '3', '3', '3', '3', '4', '3', '3', '4', '4']\n"
     ]
    }
   ],
   "source": [
    "table = soup.find('table', class_='table tbl-statistics sortable')\n",
    "rows = table.find_all('tr')\n",
    "data = []\n",
    "teamsList14 = []\n",
    "matchesPlayed14 = []\n",
    "foulsCommited14 = []\n",
    "foulsSuffered14 = []\n",
    "penaltiesCaused14 = []\n",
    "for row in rows:\n",
    "    data.append([c.text for c in row.find_all('td')])\n",
    "    \n",
    "for x in data[1:]:\n",
    "    teamsList14.append(x[0])\n",
    "    matchesPlayed14.append(x[2])\n",
    "    foulsCommited14.append(x[6])\n",
    "    foulsSuffered14.append(x[7])\n",
    "    penaltiesCaused14.append(x[8])\n",
    "\n",
    "# print (data[1])\n",
    "print(teamsList14)\n",
    "print(matchesPlayed14)\n"
   ]
  },
  {
   "cell_type": "code",
   "execution_count": 68,
   "metadata": {},
   "outputs": [
    {
     "name": "stdout",
     "output_type": "stream",
     "text": [
      "[18.5, 17.2, 16.33, 12.33, 16.0, 13.67, 15.33, 18.8, 15.25, 15.33, 17.57, 18.0, 13.25, 11.43, 16.33, 15.25, 14.33, 12.0, 16.67, 17.25, 13.0, 12.4, 18.2, 16.33, 15.33, 12.33, 12.67, 12.25, 9.33, 13.67, 16.75, 14.25]\n"
     ]
    }
   ],
   "source": [
    "avgFoulsC14 = [round(float(x)/float(y), 2) for x,y in zip(foulsCommited14, matchesPlayed14)]\n",
    "print(avgFoulsC14)"
   ]
  },
  {
   "cell_type": "code",
   "execution_count": 69,
   "metadata": {},
   "outputs": [
    {
     "name": "stdout",
     "output_type": "stream",
     "text": [
      "[15.75, 12.0, 9.33, 12.33, 9.0, 16.33, 11.67, 15.0, 20.5, 15.33, 18.43, 11.71, 12.5, 16.57, 12.0, 20.0, 14.33, 14.0, 13.0, 13.75, 14.29, 13.4, 16.8, 13.33, 15.67, 14.67, 11.33, 14.0, 15.0, 11.33, 16.25, 10.75]\n"
     ]
    }
   ],
   "source": [
    "avgFoulsS14 = [round(float(x)/float(y), 2) for x,y in zip(foulsSuffered14, matchesPlayed14)]\n",
    "print(avgFoulsS14)"
   ]
  },
  {
   "cell_type": "code",
   "execution_count": null,
   "metadata": {},
   "outputs": [],
   "source": []
  }
 ],
 "metadata": {
  "kernelspec": {
   "display_name": "Python 3",
   "language": "python",
   "name": "python3"
  },
  "language_info": {
   "codemirror_mode": {
    "name": "ipython",
    "version": 3
   },
   "file_extension": ".py",
   "mimetype": "text/x-python",
   "name": "python",
   "nbconvert_exporter": "python",
   "pygments_lexer": "ipython3",
   "version": "3.6.7"
  }
 },
 "nbformat": 4,
 "nbformat_minor": 2
}
